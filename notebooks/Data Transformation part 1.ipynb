{
 "cells": [
  {
   "cell_type": "markdown",
   "metadata": {},
   "source": [
    "DATA TRANSFORMATION\n",
    "\n",
    "Objectives\n",
    "1. Divide data by teams\n",
    "2. Combine rows so that one row is describing one game\n",
    "3. Shift the result column in time so that the data in one row predicts the outcome of the next game"
   ]
  },
  {
   "cell_type": "code",
   "execution_count": 5,
   "metadata": {},
   "outputs": [],
   "source": [
    "import pandas as pd\n",
    "import numpy as np"
   ]
  },
  {
   "cell_type": "markdown",
   "metadata": {},
   "source": [
    "In the cell below I take advantege of the structure eof the dataset. If the team is blue side then their oponents are going to be in the row i+1, if the team is red side their oponents are going to be in the row i-1"
   ]
  },
  {
   "cell_type": "code",
   "execution_count": null,
   "metadata": {},
   "outputs": [],
   "source": [
    "df = pd.read_csv(\"teams_data.csv\")\n",
    "teams = df.teamname.unique()\n",
    "for team in teams:\n",
    "    list = []\n",
    "    for i in range(len(df)-1):\n",
    "        if df.loc[i, \"teamname\"] == team and df.loc[i, \"side\"] == \"Blue\":\n",
    "            list.append(df.loc[i, :])\n",
    "            list.append(df.loc[i+1, :])\n",
    "        elif df.loc[i, \"teamname\"] == team and df.loc[i, \"side\"] == \"Red\":\n",
    "            list.append(df.loc[i, :])\n",
    "            list.append(df.loc[i-1, :])\n",
    "    data_ready_2 = pd.DataFrame(list)\n",
    "    data_ready_2.to_csv(f\"data_ready_{team}.csv\")"
   ]
  },
  {
   "cell_type": "markdown",
   "metadata": {},
   "source": [
    "Now, according to my assumtions, I create dataframes that contain mean scores of how the particular team faired in past matches and the future results"
   ]
  },
  {
   "cell_type": "code",
   "execution_count": null,
   "metadata": {},
   "outputs": [],
   "source": [
    "df1 = pd.read_csv(\"teams_data.csv\")\n",
    "teams = df1.teamname.unique()\n",
    "for team in teams:\n",
    "    df = pd.read_csv(f\"data_ready_{team}.csv\")\n",
    "    model_stats = [\"team kpm\", \"dragons\", \"barons\", \"towers\", \"dpm\", \"vspm\", \"earned gpm\", 'cspm', 'xpat15', 'goldat15']\n",
    "    df['oponents'] = 0\n",
    "    for i in range(len(df)):\n",
    "        if df.loc[i, \"teamname\"] == team:\n",
    "            df.loc[i, model_stats] = df.loc[i, model_stats] - df.loc[i+1, model_stats]\n",
    "        if df.loc[i, \"teamname\"] != team:\n",
    "            df.loc[i-1, 'oponents'] = df.loc[i, 'teamname']\n",
    "    df = df[df['teamname'] == team]\n",
    "    df_means = df[[\"teamname\", \"team kpm\", \"dragons\", \"barons\", \"towers\", \"dpm\", \"vspm\", \"earned gpm\", 'cspm', 'xpat15', 'goldat15', 'result', 'oponents']]\n",
    "    new_cols = [\"team kpm means\", \"dragons means\", \"barons means\", \"towers means\", \"dpm means\", \"vspm means\", \"earned gpm means\", 'cspm means', \n",
    "            'xpat15 means', 'goldat15 means', 'future result']\n",
    "    df_means[new_cols] = 0\n",
    "    means_indexes = [\"team kpm means\", \"dragons means\", \"barons means\", \"towers means\", \"dpm means\", \n",
    "                 \"vspm means\", \"earned gpm means\", 'cspm means', 'xpat15 means', 'goldat15 means']\n",
    "    df_means.reset_index(inplace=True, drop=True)\n",
    "    for j in range(len(means_indexes)):\n",
    "        for i in range(1, len(df_means)):\n",
    "            x = np.mean(df_means.iloc[:i, j+1])\n",
    "            df_means.loc[i-1, means_indexes[j]] = x\n",
    "    for i in range(len(df_means)):\n",
    "        result_future = df_means.loc[i, \"result\"]\n",
    "        df_means.loc[i+1, \"future result\"] = result_future\n",
    "    df_means = df_means.drop(df_means.index[-1])\n",
    "    df_means = df_means.drop(df_means.index[-1])\n",
    "    df_means = df_means[[\"team kpm means\", \"dragons means\", \"barons means\", \"towers means\", \"dpm means\", \n",
    "                 \"vspm means\", \"earned gpm means\", 'cspm means', 'xpat15 means', 'goldat15 means', 'future result', 'oponents']]\n",
    "    df_means.columns = [[\"team kpm \", \"dragons \", \"barons \", \"towers \", \"dpm \", \n",
    "                 \"vspm \", \"earned gpm \", 'cspm ', 'xpat15 ', 'goldat15 ', 'future result', 'oponents']]\n",
    "    #df_means.to_csv(f\"mean_stats_{team}.csv\")"
   ]
  },
  {
   "cell_type": "markdown",
   "metadata": {},
   "source": [
    "Now let's head to the second part where I combine the results from above to the actuall X and Y matrices that can be used for modeling"
   ]
  }
 ],
 "metadata": {
  "kernelspec": {
   "display_name": "Python 3",
   "language": "python",
   "name": "python3"
  },
  "language_info": {
   "codemirror_mode": {
    "name": "ipython",
    "version": 3
   },
   "file_extension": ".py",
   "mimetype": "text/x-python",
   "name": "python",
   "nbconvert_exporter": "python",
   "pygments_lexer": "ipython3",
   "version": "3.12.4"
  }
 },
 "nbformat": 4,
 "nbformat_minor": 2
}
