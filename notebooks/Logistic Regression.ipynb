{
 "cells": [
  {
   "cell_type": "markdown",
   "metadata": {},
   "source": [
    "**LOGISIC REGRESSION**"
   ]
  },
  {
   "cell_type": "markdown",
   "metadata": {},
   "source": [
    "Let's begin by importing necessary libaries"
   ]
  },
  {
   "cell_type": "code",
   "execution_count": 14,
   "metadata": {},
   "outputs": [],
   "source": [
    "import pandas as pd\n",
    "import numpy as np\n",
    "from sklearn.model_selection import train_test_split, GridSearchCV, KFold, cross_val_score, cross_val_predict\n",
    "from sklearn.preprocessing import StandardScaler\n",
    "from sklearn.linear_model import LogisticRegression"
   ]
  },
  {
   "cell_type": "markdown",
   "metadata": {},
   "source": [
    "Let's load the data and take a look at the beautiful X matrix"
   ]
  },
  {
   "cell_type": "code",
   "execution_count": 15,
   "metadata": {},
   "outputs": [
    {
     "data": {
      "text/html": [
       "<div>\n",
       "<style scoped>\n",
       "    .dataframe tbody tr th:only-of-type {\n",
       "        vertical-align: middle;\n",
       "    }\n",
       "\n",
       "    .dataframe tbody tr th {\n",
       "        vertical-align: top;\n",
       "    }\n",
       "\n",
       "    .dataframe thead th {\n",
       "        text-align: right;\n",
       "    }\n",
       "</style>\n",
       "<table border=\"1\" class=\"dataframe\">\n",
       "  <thead>\n",
       "    <tr style=\"text-align: right;\">\n",
       "      <th></th>\n",
       "      <th>team kpm</th>\n",
       "      <th>dragons</th>\n",
       "      <th>barons</th>\n",
       "      <th>towers</th>\n",
       "      <th>dpm</th>\n",
       "      <th>vspm</th>\n",
       "      <th>earned gpm</th>\n",
       "      <th>monsterkills_pm</th>\n",
       "      <th>cspm</th>\n",
       "      <th>goldat15</th>\n",
       "    </tr>\n",
       "  </thead>\n",
       "  <tbody>\n",
       "    <tr>\n",
       "      <th>0</th>\n",
       "      <td>0.076987</td>\n",
       "      <td>0.028571</td>\n",
       "      <td>-0.090476</td>\n",
       "      <td>-0.695238</td>\n",
       "      <td>-134.718128</td>\n",
       "      <td>-0.185134</td>\n",
       "      <td>-27.306101</td>\n",
       "      <td>-0.968975</td>\n",
       "      <td>-1.398766</td>\n",
       "      <td>-872.666667</td>\n",
       "    </tr>\n",
       "    <tr>\n",
       "      <th>1</th>\n",
       "      <td>0.046773</td>\n",
       "      <td>0.000000</td>\n",
       "      <td>-0.200000</td>\n",
       "      <td>-1.266667</td>\n",
       "      <td>-157.622987</td>\n",
       "      <td>-0.214460</td>\n",
       "      <td>-59.177227</td>\n",
       "      <td>-1.279145</td>\n",
       "      <td>-1.704927</td>\n",
       "      <td>-851.666667</td>\n",
       "    </tr>\n",
       "    <tr>\n",
       "      <th>2</th>\n",
       "      <td>-0.003039</td>\n",
       "      <td>-0.025000</td>\n",
       "      <td>-0.295833</td>\n",
       "      <td>-2.016667</td>\n",
       "      <td>-211.525307</td>\n",
       "      <td>-0.393220</td>\n",
       "      <td>-94.854949</td>\n",
       "      <td>-1.253363</td>\n",
       "      <td>-1.796630</td>\n",
       "      <td>-1027.604167</td>\n",
       "    </tr>\n",
       "    <tr>\n",
       "      <th>3</th>\n",
       "      <td>-0.019650</td>\n",
       "      <td>0.000000</td>\n",
       "      <td>-1.000000</td>\n",
       "      <td>2.000000</td>\n",
       "      <td>705.006500</td>\n",
       "      <td>5.300050</td>\n",
       "      <td>93.700150</td>\n",
       "      <td>2.777322</td>\n",
       "      <td>3.850050</td>\n",
       "      <td>154.000000</td>\n",
       "    </tr>\n",
       "    <tr>\n",
       "      <th>4</th>\n",
       "      <td>0.479667</td>\n",
       "      <td>1.000000</td>\n",
       "      <td>1.000000</td>\n",
       "      <td>6.333333</td>\n",
       "      <td>187.260467</td>\n",
       "      <td>1.957733</td>\n",
       "      <td>441.377333</td>\n",
       "      <td>3.706456</td>\n",
       "      <td>3.117767</td>\n",
       "      <td>1349.333333</td>\n",
       "    </tr>\n",
       "    <tr>\n",
       "      <th>...</th>\n",
       "      <td>...</td>\n",
       "      <td>...</td>\n",
       "      <td>...</td>\n",
       "      <td>...</td>\n",
       "      <td>...</td>\n",
       "      <td>...</td>\n",
       "      <td>...</td>\n",
       "      <td>...</td>\n",
       "      <td>...</td>\n",
       "      <td>...</td>\n",
       "    </tr>\n",
       "    <tr>\n",
       "      <th>1451</th>\n",
       "      <td>0.004700</td>\n",
       "      <td>-1.500000</td>\n",
       "      <td>-0.500000</td>\n",
       "      <td>-2.500000</td>\n",
       "      <td>302.183200</td>\n",
       "      <td>-0.090650</td>\n",
       "      <td>-32.767300</td>\n",
       "      <td>0.195975</td>\n",
       "      <td>-1.532400</td>\n",
       "      <td>11.500000</td>\n",
       "    </tr>\n",
       "    <tr>\n",
       "      <th>1452</th>\n",
       "      <td>0.701100</td>\n",
       "      <td>5.500000</td>\n",
       "      <td>2.000000</td>\n",
       "      <td>14.500000</td>\n",
       "      <td>1698.845950</td>\n",
       "      <td>5.274850</td>\n",
       "      <td>900.492850</td>\n",
       "      <td>10.928177</td>\n",
       "      <td>9.999650</td>\n",
       "      <td>7614.500000</td>\n",
       "    </tr>\n",
       "    <tr>\n",
       "      <th>1453</th>\n",
       "      <td>-0.035333</td>\n",
       "      <td>-2.333333</td>\n",
       "      <td>-0.333333</td>\n",
       "      <td>-1.333333</td>\n",
       "      <td>-126.338950</td>\n",
       "      <td>-1.799233</td>\n",
       "      <td>-85.683450</td>\n",
       "      <td>-0.548742</td>\n",
       "      <td>-1.591583</td>\n",
       "      <td>273.833333</td>\n",
       "    </tr>\n",
       "    <tr>\n",
       "      <th>1454</th>\n",
       "      <td>-0.124610</td>\n",
       "      <td>-3.523810</td>\n",
       "      <td>-0.285714</td>\n",
       "      <td>-0.190476</td>\n",
       "      <td>-556.476652</td>\n",
       "      <td>-1.759019</td>\n",
       "      <td>-121.471481</td>\n",
       "      <td>-0.745499</td>\n",
       "      <td>-2.804424</td>\n",
       "      <td>-222.809524</td>\n",
       "    </tr>\n",
       "    <tr>\n",
       "      <th>1455</th>\n",
       "      <td>0.029300</td>\n",
       "      <td>1.000000</td>\n",
       "      <td>0.666667</td>\n",
       "      <td>2.166667</td>\n",
       "      <td>-582.493133</td>\n",
       "      <td>0.739450</td>\n",
       "      <td>63.577533</td>\n",
       "      <td>0.237807</td>\n",
       "      <td>-0.458283</td>\n",
       "      <td>-1047.333333</td>\n",
       "    </tr>\n",
       "  </tbody>\n",
       "</table>\n",
       "<p>1456 rows × 10 columns</p>\n",
       "</div>"
      ],
      "text/plain": [
       "      team kpm   dragons    barons     towers          dpm      vspm  \\\n",
       "0     0.076987  0.028571 -0.090476  -0.695238  -134.718128 -0.185134   \n",
       "1     0.046773  0.000000 -0.200000  -1.266667  -157.622987 -0.214460   \n",
       "2    -0.003039 -0.025000 -0.295833  -2.016667  -211.525307 -0.393220   \n",
       "3    -0.019650  0.000000 -1.000000   2.000000   705.006500  5.300050   \n",
       "4     0.479667  1.000000  1.000000   6.333333   187.260467  1.957733   \n",
       "...        ...       ...       ...        ...          ...       ...   \n",
       "1451  0.004700 -1.500000 -0.500000  -2.500000   302.183200 -0.090650   \n",
       "1452  0.701100  5.500000  2.000000  14.500000  1698.845950  5.274850   \n",
       "1453 -0.035333 -2.333333 -0.333333  -1.333333  -126.338950 -1.799233   \n",
       "1454 -0.124610 -3.523810 -0.285714  -0.190476  -556.476652 -1.759019   \n",
       "1455  0.029300  1.000000  0.666667   2.166667  -582.493133  0.739450   \n",
       "\n",
       "      earned gpm  monsterkills_pm      cspm     goldat15  \n",
       "0     -27.306101        -0.968975 -1.398766  -872.666667  \n",
       "1     -59.177227        -1.279145 -1.704927  -851.666667  \n",
       "2     -94.854949        -1.253363 -1.796630 -1027.604167  \n",
       "3      93.700150         2.777322  3.850050   154.000000  \n",
       "4     441.377333         3.706456  3.117767  1349.333333  \n",
       "...          ...              ...       ...          ...  \n",
       "1451  -32.767300         0.195975 -1.532400    11.500000  \n",
       "1452  900.492850        10.928177  9.999650  7614.500000  \n",
       "1453  -85.683450        -0.548742 -1.591583   273.833333  \n",
       "1454 -121.471481        -0.745499 -2.804424  -222.809524  \n",
       "1455   63.577533         0.237807 -0.458283 -1047.333333  \n",
       "\n",
       "[1456 rows x 10 columns]"
      ]
     },
     "execution_count": 15,
     "metadata": {},
     "output_type": "execute_result"
    }
   ],
   "source": [
    "df = pd.read_csv('masterfile done.csv')\n",
    "\n",
    "X = df.iloc[:, 1:-2]\n",
    "y = df['future result']\n",
    "X"
   ]
  },
  {
   "cell_type": "markdown",
   "metadata": {},
   "source": [
    "Then, we need to divide the data into the training and test sets. Adittionaly I used the StandardScaler function to boost the performance of the regression.\n",
    "\n",
    "The fit_transform and transform methods are used to make sure that there is no data leakage"
   ]
  },
  {
   "cell_type": "code",
   "execution_count": 16,
   "metadata": {},
   "outputs": [],
   "source": [
    "X_train, X_test, y_train, y_test = train_test_split(X, y, test_size = 0.2, stratify= y, random_state = 1)\n",
    "scaler = StandardScaler()\n",
    "X_train_scaled = scaler.fit_transform(X_train)\n",
    "X_test_scaled = scaler.transform(X_test)\n"
   ]
  },
  {
   "cell_type": "markdown",
   "metadata": {},
   "source": [
    "Now, I set up the cross-validation and hyper parameter tuning functions"
   ]
  },
  {
   "cell_type": "code",
   "execution_count": 17,
   "metadata": {},
   "outputs": [],
   "source": [
    "kf = KFold(n_splits=10, shuffle=True, random_state=1)\n",
    "param_grid = {'C': np.arange(0.01, 2, 200),\n",
    "            'penalty': ['l1', 'l2', 'elasticnet', 'none'],\n",
    "            'solver': ['liblinear', 'lbfgs', 'saga'],\n",
    "            'fit_intercept': [True, False]}"
   ]
  },
  {
   "cell_type": "markdown",
   "metadata": {},
   "source": [
    "The rest is just fitting the model"
   ]
  },
  {
   "cell_type": "code",
   "execution_count": 18,
   "metadata": {},
   "outputs": [
    {
     "name": "stdout",
     "output_type": "stream",
     "text": [
      "Accuracy:  0.676959917477159\n",
      "Best hyperparameters:  {'C': np.float64(0.01), 'fit_intercept': True, 'penalty': 'l1', 'solver': 'liblinear'}\n"
     ]
    },
    {
     "name": "stderr",
     "output_type": "stream",
     "text": [
      "c:\\Users\\Jakub\\AppData\\Local\\Programs\\Python\\Python312\\Lib\\site-packages\\sklearn\\model_selection\\_validation.py:540: FitFailedWarning: \n",
      "140 fits failed out of a total of 240.\n",
      "The score on these train-test partitions for these parameters will be set to nan.\n",
      "If these failures are not expected, you can try to debug them by setting error_score='raise'.\n",
      "\n",
      "Below are more details about the failures:\n",
      "--------------------------------------------------------------------------------\n",
      "20 fits failed with the following error:\n",
      "Traceback (most recent call last):\n",
      "  File \"c:\\Users\\Jakub\\AppData\\Local\\Programs\\Python\\Python312\\Lib\\site-packages\\sklearn\\model_selection\\_validation.py\", line 888, in _fit_and_score\n",
      "    estimator.fit(X_train, y_train, **fit_params)\n",
      "  File \"c:\\Users\\Jakub\\AppData\\Local\\Programs\\Python\\Python312\\Lib\\site-packages\\sklearn\\base.py\", line 1473, in wrapper\n",
      "    return fit_method(estimator, *args, **kwargs)\n",
      "           ^^^^^^^^^^^^^^^^^^^^^^^^^^^^^^^^^^^^^^\n",
      "  File \"c:\\Users\\Jakub\\AppData\\Local\\Programs\\Python\\Python312\\Lib\\site-packages\\sklearn\\linear_model\\_logistic.py\", line 1194, in fit\n",
      "    solver = _check_solver(self.solver, self.penalty, self.dual)\n",
      "             ^^^^^^^^^^^^^^^^^^^^^^^^^^^^^^^^^^^^^^^^^^^^^^^^^^^\n",
      "  File \"c:\\Users\\Jakub\\AppData\\Local\\Programs\\Python\\Python312\\Lib\\site-packages\\sklearn\\linear_model\\_logistic.py\", line 67, in _check_solver\n",
      "    raise ValueError(\n",
      "ValueError: Solver lbfgs supports only 'l2' or None penalties, got l1 penalty.\n",
      "\n",
      "--------------------------------------------------------------------------------\n",
      "20 fits failed with the following error:\n",
      "Traceback (most recent call last):\n",
      "  File \"c:\\Users\\Jakub\\AppData\\Local\\Programs\\Python\\Python312\\Lib\\site-packages\\sklearn\\model_selection\\_validation.py\", line 888, in _fit_and_score\n",
      "    estimator.fit(X_train, y_train, **fit_params)\n",
      "  File \"c:\\Users\\Jakub\\AppData\\Local\\Programs\\Python\\Python312\\Lib\\site-packages\\sklearn\\base.py\", line 1473, in wrapper\n",
      "    return fit_method(estimator, *args, **kwargs)\n",
      "           ^^^^^^^^^^^^^^^^^^^^^^^^^^^^^^^^^^^^^^\n",
      "  File \"c:\\Users\\Jakub\\AppData\\Local\\Programs\\Python\\Python312\\Lib\\site-packages\\sklearn\\linear_model\\_logistic.py\", line 1194, in fit\n",
      "    solver = _check_solver(self.solver, self.penalty, self.dual)\n",
      "             ^^^^^^^^^^^^^^^^^^^^^^^^^^^^^^^^^^^^^^^^^^^^^^^^^^^\n",
      "  File \"c:\\Users\\Jakub\\AppData\\Local\\Programs\\Python\\Python312\\Lib\\site-packages\\sklearn\\linear_model\\_logistic.py\", line 75, in _check_solver\n",
      "    raise ValueError(\n",
      "ValueError: Only 'saga' solver supports elasticnet penalty, got solver=liblinear.\n",
      "\n",
      "--------------------------------------------------------------------------------\n",
      "20 fits failed with the following error:\n",
      "Traceback (most recent call last):\n",
      "  File \"c:\\Users\\Jakub\\AppData\\Local\\Programs\\Python\\Python312\\Lib\\site-packages\\sklearn\\model_selection\\_validation.py\", line 888, in _fit_and_score\n",
      "    estimator.fit(X_train, y_train, **fit_params)\n",
      "  File \"c:\\Users\\Jakub\\AppData\\Local\\Programs\\Python\\Python312\\Lib\\site-packages\\sklearn\\base.py\", line 1473, in wrapper\n",
      "    return fit_method(estimator, *args, **kwargs)\n",
      "           ^^^^^^^^^^^^^^^^^^^^^^^^^^^^^^^^^^^^^^\n",
      "  File \"c:\\Users\\Jakub\\AppData\\Local\\Programs\\Python\\Python312\\Lib\\site-packages\\sklearn\\linear_model\\_logistic.py\", line 1194, in fit\n",
      "    solver = _check_solver(self.solver, self.penalty, self.dual)\n",
      "             ^^^^^^^^^^^^^^^^^^^^^^^^^^^^^^^^^^^^^^^^^^^^^^^^^^^\n",
      "  File \"c:\\Users\\Jakub\\AppData\\Local\\Programs\\Python\\Python312\\Lib\\site-packages\\sklearn\\linear_model\\_logistic.py\", line 67, in _check_solver\n",
      "    raise ValueError(\n",
      "ValueError: Solver lbfgs supports only 'l2' or None penalties, got elasticnet penalty.\n",
      "\n",
      "--------------------------------------------------------------------------------\n",
      "20 fits failed with the following error:\n",
      "Traceback (most recent call last):\n",
      "  File \"c:\\Users\\Jakub\\AppData\\Local\\Programs\\Python\\Python312\\Lib\\site-packages\\sklearn\\model_selection\\_validation.py\", line 888, in _fit_and_score\n",
      "    estimator.fit(X_train, y_train, **fit_params)\n",
      "  File \"c:\\Users\\Jakub\\AppData\\Local\\Programs\\Python\\Python312\\Lib\\site-packages\\sklearn\\base.py\", line 1473, in wrapper\n",
      "    return fit_method(estimator, *args, **kwargs)\n",
      "           ^^^^^^^^^^^^^^^^^^^^^^^^^^^^^^^^^^^^^^\n",
      "  File \"c:\\Users\\Jakub\\AppData\\Local\\Programs\\Python\\Python312\\Lib\\site-packages\\sklearn\\linear_model\\_logistic.py\", line 1204, in fit\n",
      "    raise ValueError(\"l1_ratio must be specified when penalty is elasticnet.\")\n",
      "ValueError: l1_ratio must be specified when penalty is elasticnet.\n",
      "\n",
      "--------------------------------------------------------------------------------\n",
      "60 fits failed with the following error:\n",
      "Traceback (most recent call last):\n",
      "  File \"c:\\Users\\Jakub\\AppData\\Local\\Programs\\Python\\Python312\\Lib\\site-packages\\sklearn\\model_selection\\_validation.py\", line 888, in _fit_and_score\n",
      "    estimator.fit(X_train, y_train, **fit_params)\n",
      "  File \"c:\\Users\\Jakub\\AppData\\Local\\Programs\\Python\\Python312\\Lib\\site-packages\\sklearn\\base.py\", line 1466, in wrapper\n",
      "    estimator._validate_params()\n",
      "  File \"c:\\Users\\Jakub\\AppData\\Local\\Programs\\Python\\Python312\\Lib\\site-packages\\sklearn\\base.py\", line 666, in _validate_params\n",
      "    validate_parameter_constraints(\n",
      "  File \"c:\\Users\\Jakub\\AppData\\Local\\Programs\\Python\\Python312\\Lib\\site-packages\\sklearn\\utils\\_param_validation.py\", line 95, in validate_parameter_constraints\n",
      "    raise InvalidParameterError(\n",
      "sklearn.utils._param_validation.InvalidParameterError: The 'penalty' parameter of LogisticRegression must be a str among {'l2', 'l1', 'elasticnet'} or None. Got 'none' instead.\n",
      "\n",
      "  warnings.warn(some_fits_failed_message, FitFailedWarning)\n",
      "c:\\Users\\Jakub\\AppData\\Local\\Programs\\Python\\Python312\\Lib\\site-packages\\sklearn\\model_selection\\_search.py:1102: UserWarning: One or more of the test scores are non-finite: [0.67695992        nan 0.67178014 0.67434424 0.67520631 0.67520631\n",
      "        nan        nan        nan        nan        nan        nan\n",
      " 0.67695992        nan 0.67695992 0.67521368 0.67521368 0.67521368\n",
      "        nan        nan        nan        nan        nan        nan]\n",
      "  warnings.warn(\n"
     ]
    }
   ],
   "source": [
    "logreg = LogisticRegression()\n",
    "logreg_cv = GridSearchCV(logreg, param_grid=param_grid, cv=kf)\n",
    "logreg_cv.fit(X_train_scaled, y_train)\n",
    "score = logreg_cv.best_score_\n",
    "print(\"Accuracy: \", score)\n",
    "print(\"Best hyperparameters: \", logreg_cv.best_params_)"
   ]
  },
  {
   "cell_type": "markdown",
   "metadata": {},
   "source": [
    "Turns out that the model achives quite high accuracy of about 68% with the the best possible combination of hyperparameters. The errors above are just the result of testing every solver with every type of penalty. The lbfgs solver doesn't support l2 type of regularisation"
   ]
  },
  {
   "cell_type": "markdown",
   "metadata": {},
   "source": [
    "Now let's test if by throwing out some predictor the model's performance can be increased"
   ]
  },
  {
   "cell_type": "code",
   "execution_count": 19,
   "metadata": {},
   "outputs": [],
   "source": [
    "def powerset(s):\n",
    "    \"\"\"funcion that spits out every subset of a given set\"\"\"\n",
    "    all_sets = []\n",
    "    x = len(s)\n",
    "    for i in range(1 << x):\n",
    "        #print([s[j] for j in range(x) if (i & (1 << j))])\n",
    "        subsets = [s[j] for j in range(x) if (i & (1 << j))]\n",
    "        all_sets.append(subsets)\n",
    "    return(all_sets)   "
   ]
  },
  {
   "cell_type": "code",
   "execution_count": null,
   "metadata": {},
   "outputs": [],
   "source": [
    "sets = powerset([1, 2, 3, 4, 5, 6, 7, 8, 9, 10, 11])\n",
    "list = []\n",
    "df = pd.read_csv('masterfile done.csv')\n",
    "for i in range(1, (len(sets))):\n",
    "    X = df.iloc[:, sets[i]]\n",
    "    y = df['future result']\n",
    "    X_train, X_test, y_train, y_test = train_test_split(X, y, test_size = 0.2, stratify= y, random_state = 1)\n",
    "    kf = KFold(n_splits=10, shuffle=True, random_state=1)\n",
    "    param_grid = {'C': np.arange(0.001, 2, 200),\n",
    "            'penalty': ['l1', 'l2', 'elasticnet', 'none'],\n",
    "            'solver': ['liblinear', 'lbfgs', 'saga'],\n",
    "            'fit_intercept': [True, False]}\n",
    "    scaler = StandardScaler()\n",
    "    X_train_scaled = scaler.fit_transform(X_train)\n",
    "    X_test_scaled = scaler.transform(X_test)\n",
    "    logreg = LogisticRegression()\n",
    "    logreg_cv = GridSearchCV(logreg, param_grid=param_grid, cv=kf)\n",
    "    logreg_cv.fit(X_train_scaled, y_train)\n",
    "    score = logreg_cv.best_score_\n",
    "    list.append([score, sets[i], logreg_cv.best_params_])\n",
    "df_r = pd.DataFrame(list)\n",
    "df_r.to_csv('Logistic Regression Full Test.csv')"
   ]
  },
  {
   "cell_type": "markdown",
   "metadata": {},
   "source": [
    "I'm not going to include the the output from the cell above as it throws an avalanche of errors that stem from the fact that param_grid tries every possible combination of hyperparameters and some solvers are not compatible with the some type of penalties. However, the outputs are saved in the Logistic Regression Full Test file in the outputs folder"
   ]
  },
  {
   "cell_type": "markdown",
   "metadata": {},
   "source": [
    "The logistic regression model achives the best accuracy for the following setup\n",
    "0.6898025346301208\n",
    "Predictors:\n",
    "1. dragons\n",
    "2. barons\n",
    "3. towers\n",
    "4. dpm\n",
    "5. xpat15\n",
    "\n",
    "Hyperparamiters:\n",
    "1. penalty = l2 (ridge regularisation)\n",
    "2. fit intercept = True\n",
    "3. C = 0.001 (lambda parameter used for ridge regularisation)\n",
    "4. solver = liblinear\n",
    "\n",
    "With this setup the model achives the accuracy of 69% so there is a little improvement from the naked model but not much"
   ]
  },
  {
   "cell_type": "markdown",
   "metadata": {},
   "source": [
    "Let's see how the model performs on a single data fold, bear in mind that the accuracy here is less reliable as it is no cross-validated"
   ]
  },
  {
   "cell_type": "code",
   "execution_count": 35,
   "metadata": {},
   "outputs": [
    {
     "data": {
      "text/plain": [
       "0.7226027397260274"
      ]
     },
     "execution_count": 35,
     "metadata": {},
     "output_type": "execute_result"
    }
   ],
   "source": [
    "X = df.iloc[:, [2, 3, 4, 5, 11]]\n",
    "y = df['future result']\n",
    "\n",
    "X_train, X_test, y_train, y_test = train_test_split(X, y, test_size = 0.2, stratify= y, random_state = 1)\n",
    "scaler = StandardScaler()\n",
    "X_train_scaled = scaler.fit_transform(X_train)\n",
    "X_test_scaled = scaler.transform(X_test)\n",
    "logreg = LogisticRegression(penalty= 'l2', fit_intercept= True, C=0.001, solver='liblinear', random_state=1)\n",
    "logreg.fit(X_train_scaled, y_train)\n",
    "acc_score = logreg.score(X_test_scaled, y_test)\n",
    "acc_score"
   ]
  },
  {
   "cell_type": "markdown",
   "metadata": {},
   "source": [
    "Let's quickly take a look at the estimations of Beta paramiters for the model to see if they have correct directions"
   ]
  },
  {
   "cell_type": "code",
   "execution_count": 49,
   "metadata": {},
   "outputs": [
    {
     "data": {
      "text/plain": [
       "array([[0.0893442 , 0.09442648, 0.13938199, 0.11220427, 0.08110498]])"
      ]
     },
     "execution_count": 49,
     "metadata": {},
     "output_type": "execute_result"
    }
   ],
   "source": [
    "logreg.coef_"
   ]
  },
  {
   "cell_type": "markdown",
   "metadata": {},
   "source": [
    "For this model the estimations are as follows:\n",
    "\n",
    "1. dragons = 0.09\n",
    "2. barons = 0.09\n",
    "3. towers = 0.14\n",
    "4. dpm = 0.11\n",
    "5. xpat15 = 0.08\n",
    "\n",
    "All the directions of the Beta parameters are correct\n",
    "We can see that dragons, barons and xpat15 are very simmilar in strength, and the variables towers and dpm have grater impact as I hypothesised during the EDA when analysing the correlation matrix"
   ]
  },
  {
   "cell_type": "markdown",
   "metadata": {},
   "source": [
    "The little improvement in accuracy doesn't matter that much, let's see what more ROC curve and confussion matrix can tell about the performance of this model"
   ]
  },
  {
   "cell_type": "code",
   "execution_count": 41,
   "metadata": {},
   "outputs": [],
   "source": [
    "from sklearn.metrics import classification_report, confusion_matrix, ConfusionMatrixDisplay\n",
    "from sklearn.metrics import roc_curve, auc\n",
    "import matplotlib.pyplot as plt"
   ]
  },
  {
   "cell_type": "code",
   "execution_count": 44,
   "metadata": {},
   "outputs": [
    {
     "data": {
      "image/png": "[encoded data removed]",
      "text/plain": [
       "<Figure size 800x800 with 1 Axes>"
      ]
     },
     "metadata": {},
     "output_type": "display_data"
    }
   ],
   "source": [
    "probabilities = logreg.predict_proba(X_test_scaled)[:, 1]\n",
    "fpr, tpr, thresholds = roc_curve(y_test, probabilities)\n",
    "roc_auc = auc(fpr, tpr)\n",
    "# Plot the ROC curve\n",
    "plt.figure(figsize=(8, 8))\n",
    "plt.plot(fpr, tpr, color='darkorange', lw=2, label='ROC curve (AUC = %0.2f)' % roc_auc)\n",
    "plt.plot([0, 1], [0, 1], color='navy', lw=2, linestyle='--', label='Random classifier')\n",
    "plt.xlabel('False Positive Rate')\n",
    "plt.ylabel('True Positive Rate')\n",
    "plt.title('ROC Curve')\n",
    "plt.legend(loc='lower right')\n",
    "plt.show()"
   ]
  },
  {
   "cell_type": "markdown",
   "metadata": {},
   "source": [
    "The ROC curve is far from ideal but I consider the AUC score of 0.76 to be a pretty good score. Of course the one lonely ROC curve doesn't tell us much (maybe except from the fact that built classifier is better than random classifier). It will prove usefull when I will compare various models"
   ]
  },
  {
   "cell_type": "markdown",
   "metadata": {},
   "source": [
    "Now let's take a look at the confussion matrx"
   ]
  },
  {
   "cell_type": "code",
   "execution_count": 47,
   "metadata": {},
   "outputs": [
    {
     "data": {
      "image/png": "[encoded data removed]",
      "text/plain": [
       "<Figure size 640x480 with 2 Axes>"
      ]
     },
     "metadata": {},
     "output_type": "display_data"
    }
   ],
   "source": [
    "y_pred = logreg.predict(X_test_scaled)\n",
    "cm = confusion_matrix(y_test, y_pred, labels=logreg.classes_)\n",
    "disp = ConfusionMatrixDisplay(confusion_matrix=cm, display_labels=logreg.classes_)\n",
    "disp.plot()\n",
    "plt.show()"
   ]
  },
  {
   "cell_type": "markdown",
   "metadata": {},
   "source": [
    "We can see that the majority of observatons was classified properly, there is no anomalous behaviour for any of the classes"
   ]
  },
  {
   "cell_type": "markdown",
   "metadata": {},
   "source": [
    "**SUMMARY**\n",
    "\n",
    "1. The logistic regression yelds pretty good results when modeling the outcome of future matches based on the past team performance\n",
    "2. The teams that consistantly win their matches outperform their rivals in the folowing metrics\n",
    "        \n",
    "        1. dragons\n",
    "        2. barons\n",
    "        3. towers\n",
    "        4. dpm\n",
    "        5. xpat15\n",
    "        \n",
    "With additional emphasis on towers and dpm\n",
    "\n",
    "3. The accuracy achived was 0.69%, I wish I could compare my model to the ones used by the bookies but sadly it's one of their most guarded trade secrets"
   ]
  }
 ],
 "metadata": {
  "kernelspec": {
   "display_name": "Python 3",
   "language": "python",
   "name": "python3"
  },
  "language_info": {
   "codemirror_mode": {
    "name": "ipython",
    "version": 3
   },
   "file_extension": ".py",
   "mimetype": "text/x-python",
   "name": "python",
   "nbconvert_exporter": "python",
   "pygments_lexer": "ipython3",
   "version": "3.12.4"
  }
 },
 "nbformat": 4,
 "nbformat_minor": 2
}
