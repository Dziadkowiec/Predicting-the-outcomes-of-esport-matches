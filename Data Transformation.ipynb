{
 "cells": [
  {
   "cell_type": "markdown",
   "metadata": {},
   "source": [
    "DATA TRANSFORMATION\n",
    "\n",
    "Objectives\n",
    "1. Divide data by teams\n",
    "2. Combine rows so that one row is describing one game\n",
    "3. Shift the result column in time so that the data in one row predicts the outcome of the next game"
   ]
  },
  {
   "cell_type": "code",
   "execution_count": null,
   "metadata": {},
   "outputs": [],
   "source": [
    "import pandas as pd\n",
    "import numpy as np"
   ]
  },
  {
   "cell_type": "markdown",
   "metadata": {},
   "source": [
    "In the cell below I take advantege of the structure eof the dataset. If the team is blue side then their oponents are going to be in the row i+1, if the team is red side their oponents are going to be in the row i-1"
   ]
  },
  {
   "cell_type": "code",
   "execution_count": null,
   "metadata": {},
   "outputs": [],
   "source": [
    "df = pd.read_csv(\"teams_data.csv\")\n",
    "teams = df.teamname.unique()\n",
    "for team in teams:\n",
    "    list = []\n",
    "    for i in range(len(df)-1):\n",
    "        if df.loc[i, \"teamname\"] == team and df.loc[i, \"side\"] == \"Blue\":\n",
    "            list.append(df.loc[i, :])\n",
    "            list.append(df.loc[i+1, :])\n",
    "        elif df.loc[i, \"teamname\"] == team and df.loc[i, \"side\"] == \"Red\":\n",
    "            list.append(df.loc[i, :])\n",
    "            list.append(df.loc[i-1, :])\n",
    "    data_ready_2 = pd.DataFrame(list)\n",
    "    data_ready_2.to_csv(f\"data_ready_{team}.csv\")"
   ]
  },
  {
   "cell_type": "code",
   "execution_count": null,
   "metadata": {},
   "outputs": [],
   "source": [
    "teams = df.teamname.unique()\n",
    "for team in teams:\n",
    "    df = pd.read_csv(f\"data_ready_{team}.csv\", sep=';')\n",
    "    model_stats = ['result', 'team kpm','dragons','barons','towers','dpm','vspm','earned gpm','cspm','xpat15','goldat15']\n",
    "    cumsum_stats = [\"team kpm\", \"dragons\", \"barons\", \"towers\", \"dpm\", \"vspm\", \"earned gpm\", 'cspm', 'xpat15', 'goldat15']\n",
    "    #roznica w statystykach w pojedyńczym meczu\n",
    "    list = []\n",
    "    for i in range(df.shape[0]):\n",
    "        if df.loc[i, \"teamname\"] == team:\n",
    "            x = (df.loc[i, model_stats[2:]] - df.loc[i+1, model_stats[2:]])\n",
    "            list.append(x)\n",
    "    list_df = pd.DataFrame(list)\n",
    "    #kumulatywna średnia\n",
    "    stats = [\"team kpm\", \"dragons\", \"barons\", \"towers\", \"dpm\", \"vspm\", \"earned gpm\", 'cspm', 'xpat15', 'goldat15']\n",
    "    arr = np.zeros((list_df.shape[0]+1, len(stats)))\n",
    "    mean_stats = pd.DataFrame(arr)\n",
    "    for_range = int(df.shape[0]/2)\n",
    "    for x in range(len(stats)):\n",
    "        for i in range(for_range+1):\n",
    "            mean_stats.iloc[i, x] = np.mean(list_df.iloc[:i, x])\n",
    "    mean_stats.columns=[\"team kpm\", \"dragons\", \"barons\", \"towers\", \"dpm\", \"vspm\", \"earned gpm\", 'cspm', 'xpat15', 'goldat15']\n",
    "    mean_stats = mean_stats.drop(index=0)\n",
    "    mean_stats = mean_stats.reset_index()\n",
    "    #dodanie result\n",
    "    result = []\n",
    "    for i in range(len(df)):\n",
    "        if df.loc[i, \"teamname\"] == team:\n",
    "            result.append(df.loc[i, \"result\"])\n",
    "    result_df = pd.DataFrame(result)\n",
    "    mean_stats[\"result\"] = result_df\n",
    "    print(mean_stats.shape[0]-1)\n",
    "    #dodanie result of future match\n",
    "    for i in range(mean_stats.shape[0]-1):\n",
    "        result_future = mean_stats.loc[i, \"result\"]\n",
    "        mean_stats.loc[i+1, \"result of the future match\"] = result_future\n",
    "    #dodanie oponents\n",
    "    oponents = []\n",
    "    for i in range(df.shape[0]):\n",
    "        if df.loc[i, \"teamname\"] != team:\n",
    "            oponents.append(df.loc[i, \"teamname\"])\n",
    "    oponents_df = pd.DataFrame(oponents)\n",
    "    mean_stats[\"oponents\"] = oponents_df\n",
    "    #mean_stats = mean_stats.drop(index=0)\n",
    "    mean_stats = mean_stats.drop(columns=[\"result\", \"index\"])\n",
    "    print(mean_stats)\n",
    "    print(\"###########################################################################\")\n",
    "    #mean_stats.to_csv(f\"mean_stats_{team}_imputed.csv\", sep=';')"
   ]
  },
  {
   "cell_type": "code",
   "execution_count": 47,
   "metadata": {},
   "outputs": [
    {
     "ename": "KeyError",
     "evalue": "'teamname'",
     "output_type": "error",
     "traceback": [
      "\u001b[1;31m---------------------------------------------------------------------------\u001b[0m",
      "\u001b[1;31mKeyError\u001b[0m                                  Traceback (most recent call last)",
      "File \u001b[1;32mc:\\Users\\Jakub\\AppData\\Local\\Programs\\Python\\Python312\\Lib\\site-packages\\pandas\\core\\indexes\\base.py:3805\u001b[0m, in \u001b[0;36mIndex.get_loc\u001b[1;34m(self, key)\u001b[0m\n\u001b[0;32m   3804\u001b[0m \u001b[38;5;28;01mtry\u001b[39;00m:\n\u001b[1;32m-> 3805\u001b[0m     \u001b[38;5;28;01mreturn\u001b[39;00m \u001b[38;5;28;43mself\u001b[39;49m\u001b[38;5;241;43m.\u001b[39;49m\u001b[43m_engine\u001b[49m\u001b[38;5;241;43m.\u001b[39;49m\u001b[43mget_loc\u001b[49m\u001b[43m(\u001b[49m\u001b[43mcasted_key\u001b[49m\u001b[43m)\u001b[49m\n\u001b[0;32m   3806\u001b[0m \u001b[38;5;28;01mexcept\u001b[39;00m \u001b[38;5;167;01mKeyError\u001b[39;00m \u001b[38;5;28;01mas\u001b[39;00m err:\n",
      "File \u001b[1;32mindex.pyx:167\u001b[0m, in \u001b[0;36mpandas._libs.index.IndexEngine.get_loc\u001b[1;34m()\u001b[0m\n",
      "File \u001b[1;32mindex.pyx:196\u001b[0m, in \u001b[0;36mpandas._libs.index.IndexEngine.get_loc\u001b[1;34m()\u001b[0m\n",
      "File \u001b[1;32mpandas\\\\_libs\\\\hashtable_class_helper.pxi:7081\u001b[0m, in \u001b[0;36mpandas._libs.hashtable.PyObjectHashTable.get_item\u001b[1;34m()\u001b[0m\n",
      "File \u001b[1;32mpandas\\\\_libs\\\\hashtable_class_helper.pxi:7089\u001b[0m, in \u001b[0;36mpandas._libs.hashtable.PyObjectHashTable.get_item\u001b[1;34m()\u001b[0m\n",
      "\u001b[1;31mKeyError\u001b[0m: 'teamname'",
      "\nThe above exception was the direct cause of the following exception:\n",
      "\u001b[1;31mKeyError\u001b[0m                                  Traceback (most recent call last)",
      "Cell \u001b[1;32mIn[47], line 8\u001b[0m\n\u001b[0;32m      6\u001b[0m \u001b[38;5;28mlist\u001b[39m \u001b[38;5;241m=\u001b[39m []\n\u001b[0;32m      7\u001b[0m \u001b[38;5;28;01mfor\u001b[39;00m i \u001b[38;5;129;01min\u001b[39;00m \u001b[38;5;28mrange\u001b[39m(df\u001b[38;5;241m.\u001b[39mshape[\u001b[38;5;241m0\u001b[39m]):\n\u001b[1;32m----> 8\u001b[0m     \u001b[38;5;28;01mif\u001b[39;00m \u001b[43mdf\u001b[49m\u001b[38;5;241;43m.\u001b[39;49m\u001b[43mloc\u001b[49m\u001b[43m[\u001b[49m\u001b[43mi\u001b[49m\u001b[43m,\u001b[49m\u001b[43m \u001b[49m\u001b[38;5;124;43m\"\u001b[39;49m\u001b[38;5;124;43mteamname\u001b[39;49m\u001b[38;5;124;43m\"\u001b[39;49m\u001b[43m]\u001b[49m \u001b[38;5;241m==\u001b[39m team:\n\u001b[0;32m      9\u001b[0m         x \u001b[38;5;241m=\u001b[39m (df\u001b[38;5;241m.\u001b[39mloc[i, model_stats[\u001b[38;5;241m2\u001b[39m:]] \u001b[38;5;241m-\u001b[39m df\u001b[38;5;241m.\u001b[39mloc[i\u001b[38;5;241m+\u001b[39m\u001b[38;5;241m1\u001b[39m, model_stats[\u001b[38;5;241m2\u001b[39m:]])\n\u001b[0;32m     10\u001b[0m         \u001b[38;5;28mlist\u001b[39m\u001b[38;5;241m.\u001b[39mappend(x)\n",
      "File \u001b[1;32mc:\\Users\\Jakub\\AppData\\Local\\Programs\\Python\\Python312\\Lib\\site-packages\\pandas\\core\\indexing.py:1183\u001b[0m, in \u001b[0;36m_LocationIndexer.__getitem__\u001b[1;34m(self, key)\u001b[0m\n\u001b[0;32m   1181\u001b[0m     key \u001b[38;5;241m=\u001b[39m \u001b[38;5;28mtuple\u001b[39m(com\u001b[38;5;241m.\u001b[39mapply_if_callable(x, \u001b[38;5;28mself\u001b[39m\u001b[38;5;241m.\u001b[39mobj) \u001b[38;5;28;01mfor\u001b[39;00m x \u001b[38;5;129;01min\u001b[39;00m key)\n\u001b[0;32m   1182\u001b[0m     \u001b[38;5;28;01mif\u001b[39;00m \u001b[38;5;28mself\u001b[39m\u001b[38;5;241m.\u001b[39m_is_scalar_access(key):\n\u001b[1;32m-> 1183\u001b[0m         \u001b[38;5;28;01mreturn\u001b[39;00m \u001b[38;5;28;43mself\u001b[39;49m\u001b[38;5;241;43m.\u001b[39;49m\u001b[43mobj\u001b[49m\u001b[38;5;241;43m.\u001b[39;49m\u001b[43m_get_value\u001b[49m\u001b[43m(\u001b[49m\u001b[38;5;241;43m*\u001b[39;49m\u001b[43mkey\u001b[49m\u001b[43m,\u001b[49m\u001b[43m \u001b[49m\u001b[43mtakeable\u001b[49m\u001b[38;5;241;43m=\u001b[39;49m\u001b[38;5;28;43mself\u001b[39;49m\u001b[38;5;241;43m.\u001b[39;49m\u001b[43m_takeable\u001b[49m\u001b[43m)\u001b[49m\n\u001b[0;32m   1184\u001b[0m     \u001b[38;5;28;01mreturn\u001b[39;00m \u001b[38;5;28mself\u001b[39m\u001b[38;5;241m.\u001b[39m_getitem_tuple(key)\n\u001b[0;32m   1185\u001b[0m \u001b[38;5;28;01melse\u001b[39;00m:\n\u001b[0;32m   1186\u001b[0m     \u001b[38;5;66;03m# we by definition only have the 0th axis\u001b[39;00m\n",
      "File \u001b[1;32mc:\\Users\\Jakub\\AppData\\Local\\Programs\\Python\\Python312\\Lib\\site-packages\\pandas\\core\\frame.py:4214\u001b[0m, in \u001b[0;36mDataFrame._get_value\u001b[1;34m(self, index, col, takeable)\u001b[0m\n\u001b[0;32m   4211\u001b[0m     series \u001b[38;5;241m=\u001b[39m \u001b[38;5;28mself\u001b[39m\u001b[38;5;241m.\u001b[39m_ixs(col, axis\u001b[38;5;241m=\u001b[39m\u001b[38;5;241m1\u001b[39m)\n\u001b[0;32m   4212\u001b[0m     \u001b[38;5;28;01mreturn\u001b[39;00m series\u001b[38;5;241m.\u001b[39m_values[index]\n\u001b[1;32m-> 4214\u001b[0m series \u001b[38;5;241m=\u001b[39m \u001b[38;5;28;43mself\u001b[39;49m\u001b[38;5;241;43m.\u001b[39;49m\u001b[43m_get_item_cache\u001b[49m\u001b[43m(\u001b[49m\u001b[43mcol\u001b[49m\u001b[43m)\u001b[49m\n\u001b[0;32m   4215\u001b[0m engine \u001b[38;5;241m=\u001b[39m \u001b[38;5;28mself\u001b[39m\u001b[38;5;241m.\u001b[39mindex\u001b[38;5;241m.\u001b[39m_engine\n\u001b[0;32m   4217\u001b[0m \u001b[38;5;28;01mif\u001b[39;00m \u001b[38;5;129;01mnot\u001b[39;00m \u001b[38;5;28misinstance\u001b[39m(\u001b[38;5;28mself\u001b[39m\u001b[38;5;241m.\u001b[39mindex, MultiIndex):\n\u001b[0;32m   4218\u001b[0m     \u001b[38;5;66;03m# CategoricalIndex: Trying to use the engine fastpath may give incorrect\u001b[39;00m\n\u001b[0;32m   4219\u001b[0m     \u001b[38;5;66;03m#  results if our categories are integers that dont match our codes\u001b[39;00m\n\u001b[0;32m   4220\u001b[0m     \u001b[38;5;66;03m# IntervalIndex: IntervalTree has no get_loc\u001b[39;00m\n",
      "File \u001b[1;32mc:\\Users\\Jakub\\AppData\\Local\\Programs\\Python\\Python312\\Lib\\site-packages\\pandas\\core\\frame.py:4638\u001b[0m, in \u001b[0;36mDataFrame._get_item_cache\u001b[1;34m(self, item)\u001b[0m\n\u001b[0;32m   4633\u001b[0m res \u001b[38;5;241m=\u001b[39m cache\u001b[38;5;241m.\u001b[39mget(item)\n\u001b[0;32m   4634\u001b[0m \u001b[38;5;28;01mif\u001b[39;00m res \u001b[38;5;129;01mis\u001b[39;00m \u001b[38;5;28;01mNone\u001b[39;00m:\n\u001b[0;32m   4635\u001b[0m     \u001b[38;5;66;03m# All places that call _get_item_cache have unique columns,\u001b[39;00m\n\u001b[0;32m   4636\u001b[0m     \u001b[38;5;66;03m#  pending resolution of GH#33047\u001b[39;00m\n\u001b[1;32m-> 4638\u001b[0m     loc \u001b[38;5;241m=\u001b[39m \u001b[38;5;28;43mself\u001b[39;49m\u001b[38;5;241;43m.\u001b[39;49m\u001b[43mcolumns\u001b[49m\u001b[38;5;241;43m.\u001b[39;49m\u001b[43mget_loc\u001b[49m\u001b[43m(\u001b[49m\u001b[43mitem\u001b[49m\u001b[43m)\u001b[49m\n\u001b[0;32m   4639\u001b[0m     res \u001b[38;5;241m=\u001b[39m \u001b[38;5;28mself\u001b[39m\u001b[38;5;241m.\u001b[39m_ixs(loc, axis\u001b[38;5;241m=\u001b[39m\u001b[38;5;241m1\u001b[39m)\n\u001b[0;32m   4641\u001b[0m     cache[item] \u001b[38;5;241m=\u001b[39m res\n",
      "File \u001b[1;32mc:\\Users\\Jakub\\AppData\\Local\\Programs\\Python\\Python312\\Lib\\site-packages\\pandas\\core\\indexes\\base.py:3812\u001b[0m, in \u001b[0;36mIndex.get_loc\u001b[1;34m(self, key)\u001b[0m\n\u001b[0;32m   3807\u001b[0m     \u001b[38;5;28;01mif\u001b[39;00m \u001b[38;5;28misinstance\u001b[39m(casted_key, \u001b[38;5;28mslice\u001b[39m) \u001b[38;5;129;01mor\u001b[39;00m (\n\u001b[0;32m   3808\u001b[0m         \u001b[38;5;28misinstance\u001b[39m(casted_key, abc\u001b[38;5;241m.\u001b[39mIterable)\n\u001b[0;32m   3809\u001b[0m         \u001b[38;5;129;01mand\u001b[39;00m \u001b[38;5;28many\u001b[39m(\u001b[38;5;28misinstance\u001b[39m(x, \u001b[38;5;28mslice\u001b[39m) \u001b[38;5;28;01mfor\u001b[39;00m x \u001b[38;5;129;01min\u001b[39;00m casted_key)\n\u001b[0;32m   3810\u001b[0m     ):\n\u001b[0;32m   3811\u001b[0m         \u001b[38;5;28;01mraise\u001b[39;00m InvalidIndexError(key)\n\u001b[1;32m-> 3812\u001b[0m     \u001b[38;5;28;01mraise\u001b[39;00m \u001b[38;5;167;01mKeyError\u001b[39;00m(key) \u001b[38;5;28;01mfrom\u001b[39;00m \u001b[38;5;21;01merr\u001b[39;00m\n\u001b[0;32m   3813\u001b[0m \u001b[38;5;28;01mexcept\u001b[39;00m \u001b[38;5;167;01mTypeError\u001b[39;00m:\n\u001b[0;32m   3814\u001b[0m     \u001b[38;5;66;03m# If we have a listlike key, _check_indexing_error will raise\u001b[39;00m\n\u001b[0;32m   3815\u001b[0m     \u001b[38;5;66;03m#  InvalidIndexError. Otherwise we fall through and re-raise\u001b[39;00m\n\u001b[0;32m   3816\u001b[0m     \u001b[38;5;66;03m#  the TypeError.\u001b[39;00m\n\u001b[0;32m   3817\u001b[0m     \u001b[38;5;28mself\u001b[39m\u001b[38;5;241m.\u001b[39m_check_indexing_error(key)\n",
      "\u001b[1;31mKeyError\u001b[0m: 'teamname'"
     ]
    },
    {
     "ename": "",
     "evalue": "",
     "output_type": "error",
     "traceback": [
      "\u001b[1;31mThe Kernel crashed while executing code in the current cell or a previous cell. \n",
      "\u001b[1;31mPlease review the code in the cell(s) to identify a possible cause of the failure. \n",
      "\u001b[1;31mClick <a href='https://aka.ms/vscodeJupyterKernelCrash'>here</a> for more info. \n",
      "\u001b[1;31mView Jupyter <a href='command:jupyter.viewOutput'>log</a> for further details."
     ]
    }
   ],
   "source": [
    "team = 'LNG Esports'\n",
    "df = pd.read_csv(f\"data_ready_{team}.csv\", sep=';')\n",
    "model_stats = ['result', 'team kpm','dragons','barons','towers','dpm','vspm','earned gpm','cspm','xpat15','goldat15']\n",
    "cumsum_stats = [\"team kpm\", \"dragons\", \"barons\", \"towers\", \"dpm\", \"vspm\", \"earned gpm\", 'cspm', 'xpat15', 'goldat15']\n",
    "#roznica w statystykach w pojedyńczym meczu\n",
    "list = []\n",
    "for i in range(df.shape[0]):\n",
    "    if df.loc[i, \"teamname\"] == team:\n",
    "        x = (df.loc[i, model_stats[2:]] - df.loc[i+1, model_stats[2:]])\n",
    "        list.append(x)\n",
    "list_df = pd.DataFrame(list)\n",
    "\n",
    "#kumulatywna średnia\n",
    "stats = [\"team kpm\", \"dragons\", \"barons\", \"towers\", \"dpm\", \"vspm\", \"earned gpm\", 'cspm', 'xpat15', 'goldat15']\n",
    "arr = np.zeros((list_df.shape[0]+1, len(stats)))\n",
    "print(arr)\n",
    "mean_stats = pd.DataFrame(arr)\n",
    "for_range = int(df.shape[0]/2)\n",
    "for x in range(len(stats)):\n",
    "    for i in range(for_range+1):\n",
    "        mean_stats.iloc[i, x] = np.mean(list_df.iloc[:i, x])\n",
    "\n",
    "mean_stats.columns=[\"team kpm\", \"dragons\", \"barons\", \"towers\", \"dpm\", \"vspm\", \"earned gpm\", 'cspm', 'xpat15', 'goldat15']\n",
    "mean_stats = mean_stats.drop(index=0)\n",
    "mean_stats = mean_stats.reset_index()"
   ]
  },
  {
   "cell_type": "code",
   "execution_count": null,
   "metadata": {},
   "outputs": [],
   "source": [
    "df = pd.read_csv('teams_data.csv')\n",
    "teams = df.teamname.unique()\n",
    "print(teams)\n",
    "for team in teams:\n",
    "    df = pd.read_csv(f\"data_ready_{team}.csv\", sep=';')"
   ]
  }
 ],
 "metadata": {
  "kernelspec": {
   "display_name": "Python 3",
   "language": "python",
   "name": "python3"
  },
  "language_info": {
   "codemirror_mode": {
    "name": "ipython",
    "version": 3
   },
   "file_extension": ".py",
   "mimetype": "text/x-python",
   "name": "python",
   "nbconvert_exporter": "python",
   "pygments_lexer": "ipython3",
   "version": "3.12.4"
  }
 },
 "nbformat": 4,
 "nbformat_minor": 2
}
